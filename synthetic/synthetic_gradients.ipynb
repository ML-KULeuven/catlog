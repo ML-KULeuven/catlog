{
 "cells": [
  {
   "attachments": {},
   "cell_type": "markdown",
   "metadata": {},
   "source": [
    "In this file, we compute the gradients for the toy expectation\n",
    "$$\n",
    "\\mathbb{E}_{\\mathbf{X} \\sim p(\\mathbf{X})}\\left[\n",
    "    |\\mathbf{X} - b|\n",
    "\\right],\n",
    "$$\n",
    "where we randomly selected $b$ from the sample space of $p(\\mathbf{X})$. In this case, $p(\\mathbf{X})$ is a multivariate categorical factorising in `DIM` independent components of dimension `CATS`. Hence, we start by choosing value for both these parameters, keeping in mind that we want to compare to the exact gradient.\n",
    "\n",
    "For our experiments, we considered the following choices:\n",
    "\n",
    "1. `DIMS = 12` and `CATS = 3`\n",
    "2. `DIMS = 6`  and `CATS = 10`\n",
    "3. `DIMS = 3`  and `CATS = 100`\n",
    "\n",
    "For a closer look at the specific implementation of each gradient type, consider exploring jointcategorical.py."
   ]
  },
  {
   "cell_type": "code",
   "execution_count": 7,
   "metadata": {
    "ExecuteTime": {
     "end_time": "2023-12-11T14:07:59.805740756Z",
     "start_time": "2023-12-11T14:07:59.795110613Z"
    }
   },
   "outputs": [],
   "source": [
    "import os\n",
    "import time\n",
    "import numpy as np\n",
    "import tensorflow as tf\n",
    "import tensorflow_probability as tfp\n",
    "import matplotlib.pyplot as plt\n",
    "\n",
    "from losses import abs_loss, sq_loss\n",
    "from jointcategorical import JointCategorical\n",
    "\n",
    "\n",
    "os.environ[\"CUDA_VISIBLE_DEVICES\"] = \"3\"\n",
    "\n",
    "DIM = 3\n",
    "CATS = 100\n",
    "SAMPLES = 1000\n",
    "TEMP = 1.\n",
    "RUNS = 1000"
   ]
  },
  {
   "attachments": {},
   "cell_type": "markdown",
   "metadata": {},
   "source": [
    "Here we introduce the colours necessary for the final plots."
   ]
  },
  {
   "cell_type": "code",
   "execution_count": 8,
   "metadata": {
    "ExecuteTime": {
     "end_time": "2023-12-11T14:07:59.820614440Z",
     "start_time": "2023-12-11T14:07:59.810539851Z"
    }
   },
   "outputs": [],
   "source": [
    "red_salsa = '#F94144'  # main red colour\n",
    "celadon_blue = '#277DA1'  # main blue colour"
   ]
  },
  {
   "attachments": {},
   "cell_type": "markdown",
   "metadata": {},
   "source": [
    "We start by explicitly computing the exact gradient through exact enumeration and automatic differentiation."
   ]
  },
  {
   "cell_type": "code",
   "execution_count": 9,
   "metadata": {
    "ExecuteTime": {
     "end_time": "2023-12-11T14:08:01.789195593Z",
     "start_time": "2023-12-11T14:07:59.822561561Z"
    }
   },
   "outputs": [],
   "source": [
    "joint = JointCategorical(DIM, CATS, SAMPLES, temp=TEMP)\n",
    "\n",
    "\"\"\" Exact gradients \"\"\"\n",
    "exact_time = time.time()\n",
    "with tf.GradientTape() as tape:\n",
    "    target_probs = joint.call(1)\n",
    "    joint_options = joint.options()\n",
    "    exact_loss = tf.reduce_sum(abs_loss(joint_options, target_probs) * joint.joint_probs(joint_options, joint.logits), axis=0)\n",
    "    exact_g = tape.gradient(exact_loss, joint.logits)\n",
    "    exact_t = time.time() - exact_time"
   ]
  },
  {
   "attachments": {},
   "cell_type": "markdown",
   "metadata": {},
   "source": [
    "Each of the following cells computes approximations of the above exact gradient via different methods. All methods use `SAMPLES` samples, except IndeCateR, which is why the cell for IndeCateR starts by putting the number of samples to 1. Additionally, calling the method `joint.icr_multiplier()` construct a tensor that allows efficient computation of the IndeCateR gradients.\n",
    "At the end we set the number of samples back to the original value, being 1000 in our experiments."
   ]
  },
  {
   "cell_type": "code",
   "execution_count": 10,
   "metadata": {
    "ExecuteTime": {
     "end_time": "2023-12-11T14:08:02.159506649Z",
     "start_time": "2023-12-11T14:08:01.794616481Z"
    }
   },
   "outputs": [
    {
     "name": "stdout",
     "output_type": "stream",
     "text": [
      "IndeCateR time:  0.00033124303817749025 +/- 0.00012115429824210488\n"
     ]
    }
   ],
   "source": [
    "\"\"\" IndeCateR gradients \"\"\"\n",
    "joint.samples = 1\n",
    "joint.indecater_multiplier()\n",
    "def indecater_grads():\n",
    "    icr_time = time.time()\n",
    "    _, g = joint.indecater_grads(abs_loss, target_probs)\n",
    "    return g, time.time() - icr_time\n",
    "\n",
    "icr_g = []\n",
    "icr_t = []\n",
    "for i in range(RUNS):\n",
    "    g, t = indecater_grads()\n",
    "    icr_g.append(g)\n",
    "    icr_t.append(t)\n",
    "icr_g = tf.stack(icr_g)\n",
    "icr_t, icr_t_ste = np.mean(icr_t), np.std(icr_t) / np.sqrt(RUNS)\n",
    "print(\"IndeCateR time: \", icr_t, \"+/-\", icr_t_ste)\n",
    "joint.samples = SAMPLES"
   ]
  },
  {
   "cell_type": "code",
   "execution_count": 11,
   "metadata": {
    "ExecuteTime": {
     "end_time": "2023-12-11T14:08:03.753791198Z",
     "start_time": "2023-12-11T14:08:02.161471240Z"
    }
   },
   "outputs": [
    {
     "name": "stdout",
     "output_type": "stream",
     "text": [
      "GS time:  0.0015829648971557616 +/- 0.00013725739014140354\n"
     ]
    }
   ],
   "source": [
    "\"\"\" GS gradients \"\"\"\n",
    "def gs_grads():\n",
    "    gs_time = time.time()\n",
    "    _, g = joint.gs_grads(abs_loss, target_probs)\n",
    "    return g, time.time() - gs_time\n",
    "\n",
    "gs_g = []\n",
    "gs_t = []\n",
    "for i in range(RUNS):\n",
    "    g, t = gs_grads()\n",
    "    gs_g.append(g)\n",
    "    gs_t.append(t)\n",
    "gs_g = tf.stack(gs_g)\n",
    "gs_t, gs_t_std = np.mean(gs_t), np.std(gs_t) / np.sqrt(RUNS)\n",
    "print(\"GS time: \", gs_t, \"+/-\", gs_t_std)"
   ]
  },
  {
   "cell_type": "code",
   "execution_count": 12,
   "metadata": {
    "ExecuteTime": {
     "end_time": "2023-12-11T14:08:04.678320386Z",
     "start_time": "2023-12-11T14:08:03.757399116Z"
    }
   },
   "outputs": [
    {
     "name": "stdout",
     "output_type": "stream",
     "text": [
      "REINFORCE time:  0.0009134726524353027 +/- 0.00011286008818747992\n"
     ]
    }
   ],
   "source": [
    "\"\"\" REINFORCE gradients \"\"\"\n",
    "def reinforce_grads():\n",
    "    start_time = time.time()\n",
    "    _, g = joint.reinforce_grads(abs_loss, target_probs)\n",
    "    return g, time.time() - start_time\n",
    "\n",
    "reinforce_g = []\n",
    "reinforce_t = []\n",
    "for i in range(RUNS):\n",
    "    g, t = reinforce_grads()\n",
    "    reinforce_g.append(g)\n",
    "    reinforce_t.append(t)\n",
    "reinforce_g = tf.stack(reinforce_g)\n",
    "reinforce_t_m = np.mean(reinforce_t)\n",
    "reinforce_t_std = np.std(reinforce_t) / np.sqrt(RUNS)\n",
    "print(\"REINFORCE time: \", reinforce_t_m, \"+/-\", reinforce_t_std)"
   ]
  },
  {
   "cell_type": "code",
   "execution_count": 13,
   "metadata": {
    "ExecuteTime": {
     "end_time": "2023-12-11T14:08:05.636851841Z",
     "start_time": "2023-12-11T14:08:04.706204410Z"
    }
   },
   "outputs": [
    {
     "name": "stdout",
     "output_type": "stream",
     "text": [
      "RLOO time:  0.0009484086036682129 +/- 0.00012809373116021272\n"
     ]
    }
   ],
   "source": [
    "\"\"\" REINFORCE LOO gradients \"\"\"\n",
    "def rloo_grads():\n",
    "    start_time = time.time()\n",
    "    _, g = joint.rloo_grads(abs_loss, target_probs)\n",
    "    return g, time.time() - start_time\n",
    "\n",
    "rloo_g = []\n",
    "rloo_t = []\n",
    "for i in range(RUNS):\n",
    "    g, t = rloo_grads()\n",
    "    rloo_g.append(g)\n",
    "    rloo_t.append(t)\n",
    "rloo_g = tf.stack(rloo_g)\n",
    "rloo_t_m = np.mean(rloo_t)\n",
    "rloo_t_std = np.std(rloo_t) / np.sqrt(RUNS)\n",
    "print(\"RLOO time: \", rloo_t_m, \"+/-\", rloo_t_std)"
   ]
  },
  {
   "attachments": {},
   "cell_type": "markdown",
   "metadata": {},
   "source": [
    "Having computed the gradients `RUNS` number of times, we plot the average bias and the variance of the cosine similarity of the approximated gradients and the exact gradients."
   ]
  },
  {
   "cell_type": "code",
   "execution_count": 14,
   "metadata": {
    "ExecuteTime": {
     "end_time": "2023-12-11T14:08:06.484282988Z",
     "start_time": "2023-12-11T14:08:05.635987017Z"
    }
   },
   "outputs": [
    {
     "ename": "ValueError",
     "evalue": "labels argument cannot be None when kwargs are passed",
     "output_type": "error",
     "traceback": [
      "\u001B[0;31m---------------------------------------------------------------------------\u001B[0m",
      "\u001B[0;31mValueError\u001B[0m                                Traceback (most recent call last)",
      "Input \u001B[0;32mIn [14]\u001B[0m, in \u001B[0;36m<cell line: 23>\u001B[0;34m()\u001B[0m\n\u001B[1;32m     21\u001B[0m ax2\u001B[38;5;241m.\u001B[39mset_yscale(\u001B[38;5;124m'\u001B[39m\u001B[38;5;124mlog\u001B[39m\u001B[38;5;124m'\u001B[39m)\n\u001B[1;32m     22\u001B[0m ax2\u001B[38;5;241m.\u001B[39mset_ylim([\u001B[38;5;241m1e-16\u001B[39m, \u001B[38;5;241m1\u001B[39m])\n\u001B[0;32m---> 23\u001B[0m \u001B[43max2\u001B[49m\u001B[38;5;241;43m.\u001B[39;49m\u001B[43mset_yticks\u001B[49m\u001B[43m(\u001B[49m\u001B[43m[\u001B[49m\u001B[38;5;241;43m1e-16\u001B[39;49m\u001B[43m,\u001B[49m\u001B[43m \u001B[49m\u001B[38;5;241;43m1e-8\u001B[39;49m\u001B[43m,\u001B[49m\u001B[43m \u001B[49m\u001B[38;5;241;43m1e-4\u001B[39;49m\u001B[43m,\u001B[49m\u001B[43m \u001B[49m\u001B[38;5;241;43m1e-2\u001B[39;49m\u001B[43m,\u001B[49m\u001B[43m \u001B[49m\u001B[38;5;241;43m1e-1\u001B[39;49m\u001B[43m]\u001B[49m\u001B[43m,\u001B[49m\u001B[43m \u001B[49m\u001B[43mcolor\u001B[49m\u001B[38;5;241;43m=\u001B[39;49m\u001B[43mred_salsa\u001B[49m\u001B[43m)\u001B[49m\n\u001B[1;32m     24\u001B[0m ax2\u001B[38;5;241m.\u001B[39mspines[[\u001B[38;5;124m'\u001B[39m\u001B[38;5;124mtop\u001B[39m\u001B[38;5;124m'\u001B[39m]]\u001B[38;5;241m.\u001B[39mset_visible(\u001B[38;5;28;01mFalse\u001B[39;00m)\n\u001B[1;32m     25\u001B[0m plt\u001B[38;5;241m.\u001B[39myticks(fontsize\u001B[38;5;241m=\u001B[39m\u001B[38;5;241m15\u001B[39m)\n",
      "File \u001B[0;32m~/Documents/PythonEnvironments/DTAI1_3.8/lib/python3.8/site-packages/matplotlib/axes/_base.py:74\u001B[0m, in \u001B[0;36m_axis_method_wrapper.__set_name__.<locals>.wrapper\u001B[0;34m(self, *args, **kwargs)\u001B[0m\n\u001B[1;32m     73\u001B[0m \u001B[38;5;28;01mdef\u001B[39;00m \u001B[38;5;21mwrapper\u001B[39m(\u001B[38;5;28mself\u001B[39m, \u001B[38;5;241m*\u001B[39margs, \u001B[38;5;241m*\u001B[39m\u001B[38;5;241m*\u001B[39mkwargs):\n\u001B[0;32m---> 74\u001B[0m     \u001B[38;5;28;01mreturn\u001B[39;00m \u001B[43mget_method\u001B[49m\u001B[43m(\u001B[49m\u001B[38;5;28;43mself\u001B[39;49m\u001B[43m)\u001B[49m\u001B[43m(\u001B[49m\u001B[38;5;241;43m*\u001B[39;49m\u001B[43margs\u001B[49m\u001B[43m,\u001B[49m\u001B[43m \u001B[49m\u001B[38;5;241;43m*\u001B[39;49m\u001B[38;5;241;43m*\u001B[39;49m\u001B[43mkwargs\u001B[49m\u001B[43m)\u001B[49m\n",
      "File \u001B[0;32m~/Documents/PythonEnvironments/DTAI1_3.8/lib/python3.8/site-packages/matplotlib/axis.py:2121\u001B[0m, in \u001B[0;36mAxis.set_ticks\u001B[0;34m(self, ticks, labels, minor, **kwargs)\u001B[0m\n\u001B[1;32m   2087\u001B[0m \u001B[38;5;124;03m\"\"\"\u001B[39;00m\n\u001B[1;32m   2088\u001B[0m \u001B[38;5;124;03mSet this Axis' tick locations and optionally labels.\u001B[39;00m\n\u001B[1;32m   2089\u001B[0m \n\u001B[0;32m   (...)\u001B[0m\n\u001B[1;32m   2118\u001B[0m \u001B[38;5;124;03mticks.\u001B[39;00m\n\u001B[1;32m   2119\u001B[0m \u001B[38;5;124;03m\"\"\"\u001B[39;00m\n\u001B[1;32m   2120\u001B[0m \u001B[38;5;28;01mif\u001B[39;00m labels \u001B[38;5;129;01mis\u001B[39;00m \u001B[38;5;28;01mNone\u001B[39;00m \u001B[38;5;129;01mand\u001B[39;00m kwargs:\n\u001B[0;32m-> 2121\u001B[0m     \u001B[38;5;28;01mraise\u001B[39;00m \u001B[38;5;167;01mValueError\u001B[39;00m(\u001B[38;5;124m'\u001B[39m\u001B[38;5;124mlabels argument cannot be None when \u001B[39m\u001B[38;5;124m'\u001B[39m\n\u001B[1;32m   2122\u001B[0m                      \u001B[38;5;124m'\u001B[39m\u001B[38;5;124mkwargs are passed\u001B[39m\u001B[38;5;124m'\u001B[39m)\n\u001B[1;32m   2123\u001B[0m result \u001B[38;5;241m=\u001B[39m \u001B[38;5;28mself\u001B[39m\u001B[38;5;241m.\u001B[39m_set_tick_locations(ticks, minor\u001B[38;5;241m=\u001B[39mminor)\n\u001B[1;32m   2124\u001B[0m \u001B[38;5;28;01mif\u001B[39;00m labels \u001B[38;5;129;01mis\u001B[39;00m \u001B[38;5;129;01mnot\u001B[39;00m \u001B[38;5;28;01mNone\u001B[39;00m:\n",
      "\u001B[0;31mValueError\u001B[0m: labels argument cannot be None when kwargs are passed"
     ]
    },
    {
     "data": {
      "text/plain": "<Figure size 432x288 with 2 Axes>",
      "image/png": "[encoded data removed]"
     },
     "metadata": {
      "needs_background": "light"
     },
     "output_type": "display_data"
    }
   ],
   "source": [
    "gradients = {'Exact': exact_g, \n",
    "             'IndeCateR': icr_g,\n",
    "            'REINFORCE': reinforce_g, \n",
    "            'RLOO': rloo_g, \n",
    "            'GS': gs_g}\n",
    "x = [\"IndeCateR\", \"REINFORCE\", \"RLOO\", \"GS\"]\n",
    "x_axis = tf.cast(tf.range(4), dtype=tf.float32)\n",
    "\n",
    "bias = [tf.reduce_mean(1.0 + tf.keras.losses.cosine_similarity(tf.reshape(exact_g, [-1, DIM * CATS]), tf.reshape(gradients[estimator], [-1, DIM * CATS]))) for estimator in x]\n",
    "variance = [tf.math.reduce_variance(tf.keras.losses.cosine_similarity(tf.reshape(exact_g, [-1, DIM * CATS]), tf.reshape(gradients[estimator], [-1, DIM * CATS]))) for estimator in x]\n",
    "\n",
    "fig, ax1 = plt.subplots();\n",
    "lns1 = ax1.bar(x_axis - 0.2 / 2, bias, color=celadon_blue, width=0.2, label='Bias')\n",
    "ax1.set_ylim([0, 0.5])\n",
    "ax1.set_xticks(x_axis, x, fontsize=15, color=celadon_blue)\n",
    "ax1.spines[['top']].set_visible(False)\n",
    "plt.yticks(fontsize=15)\n",
    "\n",
    "ax2 = plt.twinx()\n",
    "lns3 = ax2.bar(x_axis + 0.2 / 2, variance, color=red_salsa, width=0.2, label='Variance')\n",
    "ax2.set_yscale('log')\n",
    "ax2.set_ylim([1e-16, 1])\n",
    "ax2.set_yticks([1e-16, 1e-8, 1e-4, 1e-2, 1e-1], color=red_salsa)\n",
    "ax2.spines[['top']].set_visible(False)\n",
    "plt.yticks(fontsize=15)\n",
    "\n",
    "plt.legend([lns1, lns3], ['Bias', 'Variance'], loc='upper left', frameon=False, fontsize=15)\n",
    "plt.xticks(x_axis, x)\n",
    "plt.savefig(f'/cw/dtaijupiter/NoCsBack/dtai/lennert/CATSCH/synthetic/plots/bias_variance_d{DIM}_c{CATS}_s{SAMPLES}_runs{RUNS}_temp{TEMP}.pdf', bbox_inches='tight', dpi=300, transparent=True)\n",
    "plt.show()"
   ]
  }
 ],
 "metadata": {
  "kernelspec": {
   "name": "python3",
   "language": "python",
   "display_name": "Python 3 (ipykernel)"
  },
  "language_info": {
   "codemirror_mode": {
    "name": "ipython",
    "version": 3
   },
   "file_extension": ".py",
   "mimetype": "text/x-python",
   "name": "python",
   "nbconvert_exporter": "python",
   "pygments_lexer": "ipython3",
   "version": "3.8.10"
  },
  "orig_nbformat": 4
 },
 "nbformat": 4,
 "nbformat_minor": 2
}
